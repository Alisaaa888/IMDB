{
 "cells": [
  {
   "cell_type": "code",
   "execution_count": 1,
   "metadata": {
    "collapsed": true
   },
   "outputs": [],
   "source": [
    "import networkx as nx\n",
    "import matplotlib.pyplot as plt\n",
    "import json"
   ]
  },
  {
   "cell_type": "code",
   "execution_count": 2,
   "metadata": {
    "collapsed": false
   },
   "outputs": [
    {
     "name": "stdout",
     "output_type": "stream",
     "text": [
      "<type 'dict'>\n"
     ]
    }
   ],
   "source": [
    "actors=[]\n",
    "with open('IMDb2006-2015.json','r') as f:\n",
    "    datas=json.load(f)\n",
    "print type(datas)"
   ]
  },
  {
   "cell_type": "code",
   "execution_count": 3,
   "metadata": {
    "collapsed": false
   },
   "outputs": [
    {
     "name": "stdout",
     "output_type": "stream",
     "text": [
      "['Hugh Jackman, Christian Bale, Michael Caine, Piper Perabo', 'Tom Hanks, Audrey Tautou, Ian McKellen, Jean Reno', 'Ivana Baquero, Sergi L\\xc3\\xb3pez, Maribel Verd\\xc3\\xba, Doug Jones', 'Owen Wilson, Paul Newman, Bonnie Hunt, Larry the Cable Guy', 'Rudy Youngblood, Dalia Hern\\xc3\\xa1ndez, Jonathan Brewer, Morris Birdyellowhead', 'Gerard Butler, Lena Headey, Dominic West, David Wenham', 'Daniel Craig, Eva Green, Mads Mikkelsen, Judi Dench', 'Meryl Streep, Anne Hathaway, Emily Blunt, Stanley Tucci', 'Luke Wilson, Maya Rudolph, Dax Shepard, Terry Crews', 'Aaron Stanford, Kathleen Quinlan, Vinessa Shaw, Emilie de Ravin']\n",
      "<type 'str'>\n",
      "[['Hugh Jackman', ' Christian Bale', ' Michael Caine', ' Piper Perabo'], ['Tom Hanks', ' Audrey Tautou', ' Ian McKellen', ' Jean Reno'], ['Ivana Baquero', ' Sergi L\\xc3\\xb3pez', ' Maribel Verd\\xc3\\xba', ' Doug Jones'], ['Owen Wilson', ' Paul Newman', ' Bonnie Hunt', ' Larry the Cable Guy'], ['Rudy Youngblood', ' Dalia Hern\\xc3\\xa1ndez', ' Jonathan Brewer', ' Morris Birdyellowhead'], ['Gerard Butler', ' Lena Headey', ' Dominic West', ' David Wenham'], ['Daniel Craig', ' Eva Green', ' Mads Mikkelsen', ' Judi Dench'], ['Meryl Streep', ' Anne Hathaway', ' Emily Blunt', ' Stanley Tucci'], ['Luke Wilson', ' Maya Rudolph', ' Dax Shepard', ' Terry Crews'], ['Aaron Stanford', ' Kathleen Quinlan', ' Vinessa Shaw', ' Emilie de Ravin']]\n",
      "<type 'list'>\n"
     ]
    }
   ],
   "source": [
    "for i in range(1,len(datas)):\n",
    "    data = datas[str(i)]\n",
    "    actor=data['actors']\n",
    "    if len(actor) >= 2:\n",
    "        actors.append(actor.encode('utf-8'))\n",
    "print actors[:10]\n",
    "print type(actors[1])\n",
    "actor_list=[]\n",
    "\n",
    "#把actor的每行str化成list\n",
    "for i in actors:\n",
    "    l=i.split(',')\n",
    "    actor_list.append(l)\n",
    "print actor_list[:10]\n",
    "print type(actor_list[1])"
   ]
  },
  {
   "cell_type": "code",
   "execution_count": 4,
   "metadata": {
    "collapsed": false
   },
   "outputs": [
    {
     "name": "stdout",
     "output_type": "stream",
     "text": [
      "[[' Christian Bale', 'Hugh Jackman'], [' Michael Caine', 'Hugh Jackman'], [' Piper Perabo', 'Hugh Jackman'], [' Christian Bale', ' Michael Caine'], [' Christian Bale', ' Piper Perabo'], [' Michael Caine', ' Piper Perabo'], [' Audrey Tautou', 'Tom Hanks'], [' Ian McKellen', 'Tom Hanks'], [' Jean Reno', 'Tom Hanks'], [' Audrey Tautou', ' Ian McKellen']]\n"
     ]
    }
   ],
   "source": [
    "#def get_pairs(x):\n",
    "pairs=[]\n",
    "#    count=0\n",
    "    \n",
    "#每个actor两两配对\n",
    "for i in actor_list:\n",
    "    for j in i:\n",
    "        indx=i.index(j)\n",
    "        for k in i[(indx+1):]:\n",
    "            if j<k :\n",
    "                pairs.append([j,k])\n",
    "            else:\n",
    "                pairs.append([k,j])\n",
    "print pairs[:10]"
   ]
  },
  {
   "cell_type": "code",
   "execution_count": 5,
   "metadata": {
    "collapsed": true
   },
   "outputs": [],
   "source": [
    "G=nx.Graph()"
   ]
  },
  {
   "cell_type": "code",
   "execution_count": 6,
   "metadata": {
    "collapsed": false
   },
   "outputs": [],
   "source": [
    "for i in pairs:\n",
    "    if G.has_edge(i[0],i[1]):\n",
    "        G[i[0]][i[1]]['time']=+1\n",
    "    \n",
    "    else:\n",
    "        G.add_edge(i[0],i[1],{'time':1})"
   ]
  },
  {
   "cell_type": "code",
   "execution_count": 7,
   "metadata": {
    "collapsed": false
   },
   "outputs": [],
   "source": [
    "with open('collgraph.edgelist','w') as f:\n",
    "    for i in G.edges():\n",
    "         f.write((i[0]+','+i[1]+','+str(G[i[0]][i[1]]['time'])+'\\n'))"
   ]
  },
  {
   "cell_type": "code",
   "execution_count": null,
   "metadata": {
    "collapsed": true
   },
   "outputs": [],
   "source": []
  }
 ],
 "metadata": {
  "anaconda-cloud": {},
  "kernelspec": {
   "display_name": "Python [Root]",
   "language": "python",
   "name": "Python [Root]"
  },
  "language_info": {
   "codemirror_mode": {
    "name": "ipython",
    "version": 2
   },
   "file_extension": ".py",
   "mimetype": "text/x-python",
   "name": "python",
   "nbconvert_exporter": "python",
   "pygments_lexer": "ipython2",
   "version": "2.7.12"
  }
 },
 "nbformat": 4,
 "nbformat_minor": 0
}
