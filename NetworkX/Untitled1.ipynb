{
 "cells": [
  {
   "cell_type": "code",
   "execution_count": 1,
   "metadata": {
    "collapsed": true
   },
   "outputs": [],
   "source": [
    "import networkx as nx\n",
    "import matplotlib.pyplot as plt\n",
    "import json\n",
    "import numpy as np"
   ]
  },
  {
   "cell_type": "code",
   "execution_count": 6,
   "metadata": {
    "collapsed": true
   },
   "outputs": [],
   "source": [
    "movies = list()\n",
    "with open('IMDb2006-2015.json','r') as f:\n",
    "    datas = json.load(f)"
   ]
  },
  {
   "cell_type": "code",
   "execution_count": 16,
   "metadata": {
    "collapsed": false
   },
   "outputs": [
    {
     "name": "stdout",
     "output_type": "stream",
     "text": [
      "('tt0454945', ['Tom Hanks', ' Audrey Tautou', ' Ian McKellen', ' Jean Reno'])\n"
     ]
    }
   ],
   "source": [
    "movie_actor = []\n",
    "movieid = []\n",
    "actor_list=[]\n",
    "actors = []\n",
    "for i in range(1,len(datas)):\n",
    "    data=datas[str(i)]\n",
    "    imdbid = data['imdb_id']\n",
    "    movieid.append(imdbid) \n",
    "    actor=data['actors']\n",
    "    if len(actor) >= 2:\n",
    "        actors.append(actor.encode('utf-8'))\n",
    "#把每个actor变成lis\n",
    "for i in actors:\n",
    "    l=i.split(',')\n",
    "    actor_list.append(l)\n",
    "#movie_actorlist\n",
    "for i in movieid:   \n",
    "    for j in actor_list:\n",
    "        movie_actor.append((imdbid.encode('utf-8'),j))\n",
    "#print movie_actor[1]"
   ]
  },
  {
   "cell_type": "code",
   "execution_count": 18,
   "metadata": {
    "collapsed": true
   },
   "outputs": [],
   "source": [
    "G = nx.Graph()\n",
    "def get_pairs(l):\n",
    "    pairs=[]\n",
    "    for i in l:\n",
    "        for j in i:\n",
    "            indx=i.index(j)\n",
    "            for k in i[(indx+1):]:\n",
    "                if j<k :\n",
    "                    pairs.append([j,k])\n",
    "                else:\n",
    "                    pairs.append([k,j])\n",
    "    return pairs"
   ]
  },
  {
   "cell_type": "code",
   "execution_count": null,
   "metadata": {
    "collapsed": true
   },
   "outputs": [],
   "source": [
    "for i in get_pairs(actor_list):\n",
    "    if G.has_edge(i[0],i[1]):\n",
    "        G[i[0]][i[1]]['time']=+1\n",
    "    \n",
    "    else:\n",
    "        G.add_edge(i[0],i[1],{'time':1})"
   ]
  }
 ],
 "metadata": {
  "anaconda-cloud": {},
  "kernelspec": {
   "display_name": "Python [Root]",
   "language": "python",
   "name": "Python [Root]"
  },
  "language_info": {
   "codemirror_mode": {
    "name": "ipython",
    "version": 2
   },
   "file_extension": ".py",
   "mimetype": "text/x-python",
   "name": "python",
   "nbconvert_exporter": "python",
   "pygments_lexer": "ipython2",
   "version": "2.7.12"
  }
 },
 "nbformat": 4,
 "nbformat_minor": 0
}
